{
 "cells": [
  {
   "cell_type": "code",
   "execution_count": null,
   "id": "c23c34b4-04c6-493a-96ad-43778b118c62",
   "metadata": {},
   "outputs": [],
   "source": [
    "# MUSIC GENRE CLASSIFICATION USING RNN"
   ]
  },
  {
   "cell_type": "code",
   "execution_count": 1,
   "id": "bfac3938-36a3-4f0e-956c-d3dff455e7c2",
   "metadata": {},
   "outputs": [],
   "source": [
    "import os\n",
    "import pandas as pd\n",
    "import numpy as np"
   ]
  },
  {
   "cell_type": "code",
   "execution_count": null,
   "id": "cdafe8e2-279b-4831-96af-04b742abed11",
   "metadata": {},
   "outputs": [],
   "source": [
    "# data preprocessing"
   ]
  },
  {
   "cell_type": "code",
   "execution_count": null,
   "id": "e186a9e5-c361-4b73-8fd9-6f4227d31d46",
   "metadata": {},
   "outputs": [],
   "source": [
    "#pip install librosa"
   ]
  },
  {
   "cell_type": "code",
   "execution_count": 3,
   "id": "1235620c-19af-4183-b93c-6923802eb756",
   "metadata": {},
   "outputs": [],
   "source": [
    "data_dir=r\"C:\\Users\\sweth\\Downloads\\Data\\genres_original\"\n",
    "file_paths=[]\n",
    "labels=[]\n",
    "for genre in os.listdir(data_dir):\n",
    "    genre_folder=os.path.join(data_dir,genre)\n",
    "    if os.path.isdir(genre_folder):\n",
    "        for filename in os.listdir(genre_folder):\n",
    "            if filename.endswith('.wav'):\n",
    "                file_paths.append(os.path.join(genre_folder,filename))\n",
    "                labels.append(genre)"
   ]
  },
  {
   "cell_type": "code",
   "execution_count": 5,
   "id": "55c292e0-4d09-4fd9-a1c4-4a071dbb8dc5",
   "metadata": {},
   "outputs": [
    {
     "name": "stderr",
     "output_type": "stream",
     "text": [
      "C:\\ProgramData\\anaconda3\\Lib\\site-packages\\paramiko\\pkey.py:82: CryptographyDeprecationWarning: TripleDES has been moved to cryptography.hazmat.decrepit.ciphers.algorithms.TripleDES and will be removed from this module in 48.0.0.\n",
      "  \"cipher\": algorithms.TripleDES,\n",
      "C:\\ProgramData\\anaconda3\\Lib\\site-packages\\paramiko\\transport.py:219: CryptographyDeprecationWarning: Blowfish has been moved to cryptography.hazmat.decrepit.ciphers.algorithms.Blowfish and will be removed from this module in 45.0.0.\n",
      "  \"class\": algorithms.Blowfish,\n",
      "C:\\ProgramData\\anaconda3\\Lib\\site-packages\\paramiko\\transport.py:243: CryptographyDeprecationWarning: TripleDES has been moved to cryptography.hazmat.decrepit.ciphers.algorithms.TripleDES and will be removed from this module in 48.0.0.\n",
      "  \"class\": algorithms.TripleDES,\n",
      "C:\\Users\\sweth\\AppData\\Local\\Temp\\ipykernel_32412\\489068962.py:7: UserWarning: PySoundFile failed. Trying audioread instead.\n",
      "  y,sr=librosa.load(path,duration=30)\n",
      "C:\\Users\\sweth\\AppData\\Roaming\\Python\\Python312\\site-packages\\librosa\\core\\audio.py:184: FutureWarning: librosa.core.audio.__audioread_load\n",
      "\tDeprecated as of librosa version 0.10.0.\n",
      "\tIt will be removed in librosa version 1.0.\n",
      "  y, sr_native = __audioread_load(path, offset, duration, dtype)\n"
     ]
    },
    {
     "name": "stdout",
     "output_type": "stream",
     "text": [
      "Error processing C:\\Users\\sweth\\Downloads\\Data\\genres_original\\jazz\\jazz.00054.wav: \n"
     ]
    }
   ],
   "source": [
    "import librosa\n",
    "features=[]\n",
    "bad_files=[]\n",
    "new_labels=[] # remove the labels that correspond to any bad files, otherwise your data and labels won't match\n",
    "for path,label in zip(file_paths,labels):\n",
    "    try:\n",
    "        y,sr=librosa.load(path,duration=30)\n",
    "        mfcc=librosa.feature.mfcc(y=y,sr=sr,n_mfcc=40)\n",
    "        mfcc=mfcc.T # Transpose to (time_steps,features)\n",
    "        features.append(mfcc)\n",
    "        new_labels.append(label) # only add label if feature extraction was successful\n",
    "    except Exception as e:\n",
    "        print(f\"Error processing {path}: {e}\")\n",
    "        bad_files.append(path)    "
   ]
  },
  {
   "cell_type": "code",
   "execution_count": 7,
   "id": "a158c55d-73d9-4e7c-a05d-710df0141833",
   "metadata": {},
   "outputs": [
    {
     "name": "stdout",
     "output_type": "stream",
     "text": [
      "999 1000\n",
      "<class 'numpy.ndarray'> (1292, 40)\n"
     ]
    }
   ],
   "source": [
    "print(len(features),len(labels))\n",
    "print(type(features[0]),features[0].shape)"
   ]
  },
  {
   "cell_type": "code",
   "execution_count": 9,
   "id": "f49c5e1b-f596-46e6-ab34-50c6320e60b6",
   "metadata": {},
   "outputs": [],
   "source": [
    "# Clean your features list to include only valid ones(along with their labels)\n",
    "# To ensure you don't run into mismatched or corrupted inputs later\n",
    "cleaned_features=[]\n",
    "cleaned_labels=[]\n",
    "for f,l in zip(features,labels):\n",
    "    if isinstance(f,(list,np.ndarray)):\n",
    "        cleaned_features.append(f)\n",
    "        cleaned_labels.append(l)       "
   ]
  },
  {
   "cell_type": "code",
   "execution_count": null,
   "id": "6fbb71d5-d7a4-473b-ad61-27fee7c29af0",
   "metadata": {},
   "outputs": [],
   "source": [
    "# data preparation"
   ]
  },
  {
   "cell_type": "code",
   "execution_count": 11,
   "id": "6fbec1d8-ea6d-42da-8454-d55a06369502",
   "metadata": {},
   "outputs": [],
   "source": [
    "# Pad sequences so that all samples have the same length\n",
    "from tensorflow.keras.preprocessing.sequence import pad_sequences\n",
    "padded_features=pad_sequences(cleaned_features,dtype='float32',padding='post')"
   ]
  },
  {
   "cell_type": "code",
   "execution_count": 13,
   "id": "b02c3a79-0eb9-4689-9768-0173638707f3",
   "metadata": {},
   "outputs": [
    {
     "name": "stdout",
     "output_type": "stream",
     "text": [
      "999 999\n",
      "<class 'numpy.ndarray'> (1292, 40)\n",
      "(999, 1292, 40)\n"
     ]
    }
   ],
   "source": [
    "print(len(cleaned_features),len(cleaned_labels))\n",
    "print(type(cleaned_features[0]),cleaned_features[0].shape)\n",
    "print(padded_features.shape)"
   ]
  },
  {
   "cell_type": "code",
   "execution_count": 15,
   "id": "eb768fa5-5853-47d4-9f0b-ba47a8833d6c",
   "metadata": {},
   "outputs": [],
   "source": [
    "# Encoding labels-Neural networks need numerical labels...\n",
    "from sklearn.preprocessing import LabelEncoder\n",
    "le=LabelEncoder()\n",
    "encoded_labels=le.fit_transform(cleaned_labels)"
   ]
  },
  {
   "cell_type": "code",
   "execution_count": 17,
   "id": "37aaeb52-223c-4863-a7af-3c0bf42bb980",
   "metadata": {},
   "outputs": [
    {
     "name": "stdout",
     "output_type": "stream",
     "text": [
      "['blues' 'classical' 'country' 'disco' 'hiphop' 'jazz' 'metal' 'pop'\n",
      " 'reggae' 'rock']\n"
     ]
    }
   ],
   "source": [
    "print(le.classes_)"
   ]
  },
  {
   "cell_type": "code",
   "execution_count": null,
   "id": "9c129bfc-8487-4fc7-a0e1-865409387b06",
   "metadata": {},
   "outputs": [],
   "source": [
    "# train test split"
   ]
  },
  {
   "cell_type": "code",
   "execution_count": 19,
   "id": "1a5b4d47-d999-4a99-b4a1-af8bc42c3d92",
   "metadata": {},
   "outputs": [],
   "source": [
    "from sklearn.model_selection import train_test_split\n",
    "x_train,x_test,y_train,y_test=train_test_split(padded_features,encoded_labels,test_size=0.2,random_state=42)"
   ]
  },
  {
   "cell_type": "code",
   "execution_count": null,
   "id": "470e6582-f0b6-4ebb-80c9-7d8388fb6a39",
   "metadata": {},
   "outputs": [],
   "source": [
    "# Model building"
   ]
  },
  {
   "cell_type": "code",
   "execution_count": 21,
   "id": "e6d0ab50-5f4d-4932-8629-688295256bf1",
   "metadata": {},
   "outputs": [
    {
     "name": "stderr",
     "output_type": "stream",
     "text": [
      "C:\\Users\\sweth\\AppData\\Roaming\\Python\\Python312\\site-packages\\keras\\src\\layers\\rnn\\rnn.py:200: UserWarning: Do not pass an `input_shape`/`input_dim` argument to a layer. When using Sequential models, prefer using an `Input(shape)` object as the first layer in the model instead.\n",
      "  super().__init__(**kwargs)\n"
     ]
    },
    {
     "data": {
      "text/html": [
       "<pre style=\"white-space:pre;overflow-x:auto;line-height:normal;font-family:Menlo,'DejaVu Sans Mono',consolas,'Courier New',monospace\"><span style=\"font-weight: bold\">Model: \"sequential\"</span>\n",
       "</pre>\n"
      ],
      "text/plain": [
       "\u001b[1mModel: \"sequential\"\u001b[0m\n"
      ]
     },
     "metadata": {},
     "output_type": "display_data"
    },
    {
     "data": {
      "text/html": [
       "<pre style=\"white-space:pre;overflow-x:auto;line-height:normal;font-family:Menlo,'DejaVu Sans Mono',consolas,'Courier New',monospace\">┏━━━━━━━━━━━━━━━━━━━━━━━━━━━━━━━━━┳━━━━━━━━━━━━━━━━━━━━━━━━┳━━━━━━━━━━━━━━━┓\n",
       "┃<span style=\"font-weight: bold\"> Layer (type)                    </span>┃<span style=\"font-weight: bold\"> Output Shape           </span>┃<span style=\"font-weight: bold\">       Param # </span>┃\n",
       "┡━━━━━━━━━━━━━━━━━━━━━━━━━━━━━━━━━╇━━━━━━━━━━━━━━━━━━━━━━━━╇━━━━━━━━━━━━━━━┩\n",
       "│ lstm (<span style=\"color: #0087ff; text-decoration-color: #0087ff\">LSTM</span>)                     │ (<span style=\"color: #00d7ff; text-decoration-color: #00d7ff\">None</span>, <span style=\"color: #00af00; text-decoration-color: #00af00\">128</span>)            │        <span style=\"color: #00af00; text-decoration-color: #00af00\">86,528</span> │\n",
       "├─────────────────────────────────┼────────────────────────┼───────────────┤\n",
       "│ dropout (<span style=\"color: #0087ff; text-decoration-color: #0087ff\">Dropout</span>)               │ (<span style=\"color: #00d7ff; text-decoration-color: #00d7ff\">None</span>, <span style=\"color: #00af00; text-decoration-color: #00af00\">128</span>)            │             <span style=\"color: #00af00; text-decoration-color: #00af00\">0</span> │\n",
       "├─────────────────────────────────┼────────────────────────┼───────────────┤\n",
       "│ dense (<span style=\"color: #0087ff; text-decoration-color: #0087ff\">Dense</span>)                   │ (<span style=\"color: #00d7ff; text-decoration-color: #00d7ff\">None</span>, <span style=\"color: #00af00; text-decoration-color: #00af00\">64</span>)             │         <span style=\"color: #00af00; text-decoration-color: #00af00\">8,256</span> │\n",
       "├─────────────────────────────────┼────────────────────────┼───────────────┤\n",
       "│ dropout_1 (<span style=\"color: #0087ff; text-decoration-color: #0087ff\">Dropout</span>)             │ (<span style=\"color: #00d7ff; text-decoration-color: #00d7ff\">None</span>, <span style=\"color: #00af00; text-decoration-color: #00af00\">64</span>)             │             <span style=\"color: #00af00; text-decoration-color: #00af00\">0</span> │\n",
       "├─────────────────────────────────┼────────────────────────┼───────────────┤\n",
       "│ dense_1 (<span style=\"color: #0087ff; text-decoration-color: #0087ff\">Dense</span>)                 │ (<span style=\"color: #00d7ff; text-decoration-color: #00d7ff\">None</span>, <span style=\"color: #00af00; text-decoration-color: #00af00\">10</span>)             │           <span style=\"color: #00af00; text-decoration-color: #00af00\">650</span> │\n",
       "└─────────────────────────────────┴────────────────────────┴───────────────┘\n",
       "</pre>\n"
      ],
      "text/plain": [
       "┏━━━━━━━━━━━━━━━━━━━━━━━━━━━━━━━━━┳━━━━━━━━━━━━━━━━━━━━━━━━┳━━━━━━━━━━━━━━━┓\n",
       "┃\u001b[1m \u001b[0m\u001b[1mLayer (type)                   \u001b[0m\u001b[1m \u001b[0m┃\u001b[1m \u001b[0m\u001b[1mOutput Shape          \u001b[0m\u001b[1m \u001b[0m┃\u001b[1m \u001b[0m\u001b[1m      Param #\u001b[0m\u001b[1m \u001b[0m┃\n",
       "┡━━━━━━━━━━━━━━━━━━━━━━━━━━━━━━━━━╇━━━━━━━━━━━━━━━━━━━━━━━━╇━━━━━━━━━━━━━━━┩\n",
       "│ lstm (\u001b[38;5;33mLSTM\u001b[0m)                     │ (\u001b[38;5;45mNone\u001b[0m, \u001b[38;5;34m128\u001b[0m)            │        \u001b[38;5;34m86,528\u001b[0m │\n",
       "├─────────────────────────────────┼────────────────────────┼───────────────┤\n",
       "│ dropout (\u001b[38;5;33mDropout\u001b[0m)               │ (\u001b[38;5;45mNone\u001b[0m, \u001b[38;5;34m128\u001b[0m)            │             \u001b[38;5;34m0\u001b[0m │\n",
       "├─────────────────────────────────┼────────────────────────┼───────────────┤\n",
       "│ dense (\u001b[38;5;33mDense\u001b[0m)                   │ (\u001b[38;5;45mNone\u001b[0m, \u001b[38;5;34m64\u001b[0m)             │         \u001b[38;5;34m8,256\u001b[0m │\n",
       "├─────────────────────────────────┼────────────────────────┼───────────────┤\n",
       "│ dropout_1 (\u001b[38;5;33mDropout\u001b[0m)             │ (\u001b[38;5;45mNone\u001b[0m, \u001b[38;5;34m64\u001b[0m)             │             \u001b[38;5;34m0\u001b[0m │\n",
       "├─────────────────────────────────┼────────────────────────┼───────────────┤\n",
       "│ dense_1 (\u001b[38;5;33mDense\u001b[0m)                 │ (\u001b[38;5;45mNone\u001b[0m, \u001b[38;5;34m10\u001b[0m)             │           \u001b[38;5;34m650\u001b[0m │\n",
       "└─────────────────────────────────┴────────────────────────┴───────────────┘\n"
      ]
     },
     "metadata": {},
     "output_type": "display_data"
    },
    {
     "data": {
      "text/html": [
       "<pre style=\"white-space:pre;overflow-x:auto;line-height:normal;font-family:Menlo,'DejaVu Sans Mono',consolas,'Courier New',monospace\"><span style=\"font-weight: bold\"> Total params: </span><span style=\"color: #00af00; text-decoration-color: #00af00\">95,434</span> (372.79 KB)\n",
       "</pre>\n"
      ],
      "text/plain": [
       "\u001b[1m Total params: \u001b[0m\u001b[38;5;34m95,434\u001b[0m (372.79 KB)\n"
      ]
     },
     "metadata": {},
     "output_type": "display_data"
    },
    {
     "data": {
      "text/html": [
       "<pre style=\"white-space:pre;overflow-x:auto;line-height:normal;font-family:Menlo,'DejaVu Sans Mono',consolas,'Courier New',monospace\"><span style=\"font-weight: bold\"> Trainable params: </span><span style=\"color: #00af00; text-decoration-color: #00af00\">95,434</span> (372.79 KB)\n",
       "</pre>\n"
      ],
      "text/plain": [
       "\u001b[1m Trainable params: \u001b[0m\u001b[38;5;34m95,434\u001b[0m (372.79 KB)\n"
      ]
     },
     "metadata": {},
     "output_type": "display_data"
    },
    {
     "data": {
      "text/html": [
       "<pre style=\"white-space:pre;overflow-x:auto;line-height:normal;font-family:Menlo,'DejaVu Sans Mono',consolas,'Courier New',monospace\"><span style=\"font-weight: bold\"> Non-trainable params: </span><span style=\"color: #00af00; text-decoration-color: #00af00\">0</span> (0.00 B)\n",
       "</pre>\n"
      ],
      "text/plain": [
       "\u001b[1m Non-trainable params: \u001b[0m\u001b[38;5;34m0\u001b[0m (0.00 B)\n"
      ]
     },
     "metadata": {},
     "output_type": "display_data"
    },
    {
     "name": "stdout",
     "output_type": "stream",
     "text": [
      "None\n"
     ]
    }
   ],
   "source": [
    "from keras.models import Sequential\n",
    "from keras.layers import Dense,Embedding,LSTM,SpatialDropout1D\n",
    "from tensorflow.keras.layers import Dropout\n",
    "\n",
    "model=Sequential()\n",
    "model.add(LSTM(128,input_shape=(1292,40),return_sequences=False))\n",
    "model.add(Dropout(0.3))\n",
    "model.add(Dense(64,activation='relu'))\n",
    "model.add(Dropout(0.3))\n",
    "model.add(Dense(10,activation='softmax')) \n",
    "model.compile(loss='sparse_categorical_crossentropy',optimizer='adam',metrics=['accuracy'])\n",
    "print(model.summary())"
   ]
  },
  {
   "cell_type": "code",
   "execution_count": null,
   "id": "478a7af4-ccab-4c1f-b6ef-fd90dce6e8b6",
   "metadata": {},
   "outputs": [],
   "source": [
    "# training"
   ]
  },
  {
   "cell_type": "code",
   "execution_count": 23,
   "id": "eb333a42-f429-4fd7-a7cf-9a59660ce346",
   "metadata": {},
   "outputs": [
    {
     "name": "stdout",
     "output_type": "stream",
     "text": [
      "Epoch 1/50\n",
      "\u001b[1m25/25\u001b[0m \u001b[32m━━━━━━━━━━━━━━━━━━━━\u001b[0m\u001b[37m\u001b[0m \u001b[1m45s\u001b[0m 2s/step - accuracy: 0.0903 - loss: 2.4600 - val_accuracy: 0.2100 - val_loss: 2.1973\n",
      "Epoch 2/50\n",
      "\u001b[1m25/25\u001b[0m \u001b[32m━━━━━━━━━━━━━━━━━━━━\u001b[0m\u001b[37m\u001b[0m \u001b[1m38s\u001b[0m 2s/step - accuracy: 0.2499 - loss: 2.1145 - val_accuracy: 0.2650 - val_loss: 2.0593\n",
      "Epoch 3/50\n",
      "\u001b[1m25/25\u001b[0m \u001b[32m━━━━━━━━━━━━━━━━━━━━\u001b[0m\u001b[37m\u001b[0m \u001b[1m43s\u001b[0m 2s/step - accuracy: 0.3250 - loss: 1.9683 - val_accuracy: 0.2650 - val_loss: 1.9791\n",
      "Epoch 4/50\n",
      "\u001b[1m25/25\u001b[0m \u001b[32m━━━━━━━━━━━━━━━━━━━━\u001b[0m\u001b[37m\u001b[0m \u001b[1m44s\u001b[0m 2s/step - accuracy: 0.3834 - loss: 1.8126 - val_accuracy: 0.2950 - val_loss: 1.8773\n",
      "Epoch 5/50\n",
      "\u001b[1m25/25\u001b[0m \u001b[32m━━━━━━━━━━━━━━━━━━━━\u001b[0m\u001b[37m\u001b[0m \u001b[1m84s\u001b[0m 2s/step - accuracy: 0.4056 - loss: 1.7239 - val_accuracy: 0.3200 - val_loss: 1.8007\n",
      "Epoch 6/50\n",
      "\u001b[1m25/25\u001b[0m \u001b[32m━━━━━━━━━━━━━━━━━━━━\u001b[0m\u001b[37m\u001b[0m \u001b[1m81s\u001b[0m 2s/step - accuracy: 0.4490 - loss: 1.6438 - val_accuracy: 0.3700 - val_loss: 1.7636\n",
      "Epoch 7/50\n",
      "\u001b[1m25/25\u001b[0m \u001b[32m━━━━━━━━━━━━━━━━━━━━\u001b[0m\u001b[37m\u001b[0m \u001b[1m83s\u001b[0m 2s/step - accuracy: 0.4155 - loss: 1.6340 - val_accuracy: 0.4000 - val_loss: 1.7181\n",
      "Epoch 8/50\n",
      "\u001b[1m25/25\u001b[0m \u001b[32m━━━━━━━━━━━━━━━━━━━━\u001b[0m\u001b[37m\u001b[0m \u001b[1m45s\u001b[0m 2s/step - accuracy: 0.4812 - loss: 1.4856 - val_accuracy: 0.4150 - val_loss: 1.6881\n",
      "Epoch 9/50\n",
      "\u001b[1m25/25\u001b[0m \u001b[32m━━━━━━━━━━━━━━━━━━━━\u001b[0m\u001b[37m\u001b[0m \u001b[1m77s\u001b[0m 2s/step - accuracy: 0.5079 - loss: 1.4219 - val_accuracy: 0.4250 - val_loss: 1.6495\n",
      "Epoch 10/50\n",
      "\u001b[1m25/25\u001b[0m \u001b[32m━━━━━━━━━━━━━━━━━━━━\u001b[0m\u001b[37m\u001b[0m \u001b[1m42s\u001b[0m 2s/step - accuracy: 0.5330 - loss: 1.3805 - val_accuracy: 0.4300 - val_loss: 1.6638\n",
      "Epoch 11/50\n",
      "\u001b[1m25/25\u001b[0m \u001b[32m━━━━━━━━━━━━━━━━━━━━\u001b[0m\u001b[37m\u001b[0m \u001b[1m84s\u001b[0m 2s/step - accuracy: 0.5355 - loss: 1.3079 - val_accuracy: 0.4650 - val_loss: 1.6029\n",
      "Epoch 12/50\n",
      "\u001b[1m25/25\u001b[0m \u001b[32m━━━━━━━━━━━━━━━━━━━━\u001b[0m\u001b[37m\u001b[0m \u001b[1m82s\u001b[0m 2s/step - accuracy: 0.5875 - loss: 1.2265 - val_accuracy: 0.4450 - val_loss: 1.5892\n",
      "Epoch 13/50\n",
      "\u001b[1m25/25\u001b[0m \u001b[32m━━━━━━━━━━━━━━━━━━━━\u001b[0m\u001b[37m\u001b[0m \u001b[1m82s\u001b[0m 2s/step - accuracy: 0.5887 - loss: 1.1765 - val_accuracy: 0.4600 - val_loss: 1.5738\n",
      "Epoch 14/50\n",
      "\u001b[1m25/25\u001b[0m \u001b[32m━━━━━━━━━━━━━━━━━━━━\u001b[0m\u001b[37m\u001b[0m \u001b[1m85s\u001b[0m 2s/step - accuracy: 0.6393 - loss: 1.0680 - val_accuracy: 0.4300 - val_loss: 1.5876\n",
      "Epoch 15/50\n",
      "\u001b[1m25/25\u001b[0m \u001b[32m━━━━━━━━━━━━━━━━━━━━\u001b[0m\u001b[37m\u001b[0m \u001b[1m45s\u001b[0m 2s/step - accuracy: 0.6726 - loss: 1.0296 - val_accuracy: 0.4650 - val_loss: 1.5826\n",
      "Epoch 16/50\n",
      "\u001b[1m25/25\u001b[0m \u001b[32m━━━━━━━━━━━━━━━━━━━━\u001b[0m\u001b[37m\u001b[0m \u001b[1m41s\u001b[0m 2s/step - accuracy: 0.6476 - loss: 1.0300 - val_accuracy: 0.4450 - val_loss: 1.6013\n",
      "Epoch 17/50\n",
      "\u001b[1m25/25\u001b[0m \u001b[32m━━━━━━━━━━━━━━━━━━━━\u001b[0m\u001b[37m\u001b[0m \u001b[1m82s\u001b[0m 2s/step - accuracy: 0.6907 - loss: 0.9105 - val_accuracy: 0.4500 - val_loss: 1.5660\n",
      "Epoch 18/50\n",
      "\u001b[1m25/25\u001b[0m \u001b[32m━━━━━━━━━━━━━━━━━━━━\u001b[0m\u001b[37m\u001b[0m \u001b[1m85s\u001b[0m 2s/step - accuracy: 0.7005 - loss: 0.8810 - val_accuracy: 0.4500 - val_loss: 1.5603\n",
      "Epoch 19/50\n",
      "\u001b[1m25/25\u001b[0m \u001b[32m━━━━━━━━━━━━━━━━━━━━\u001b[0m\u001b[37m\u001b[0m \u001b[1m42s\u001b[0m 2s/step - accuracy: 0.7165 - loss: 0.8312 - val_accuracy: 0.4850 - val_loss: 1.5504\n",
      "Epoch 20/50\n",
      "\u001b[1m25/25\u001b[0m \u001b[32m━━━━━━━━━━━━━━━━━━━━\u001b[0m\u001b[37m\u001b[0m \u001b[1m42s\u001b[0m 2s/step - accuracy: 0.7618 - loss: 0.7812 - val_accuracy: 0.4700 - val_loss: 1.5873\n",
      "Epoch 21/50\n",
      "\u001b[1m25/25\u001b[0m \u001b[32m━━━━━━━━━━━━━━━━━━━━\u001b[0m\u001b[37m\u001b[0m \u001b[1m82s\u001b[0m 2s/step - accuracy: 0.7727 - loss: 0.7330 - val_accuracy: 0.4750 - val_loss: 1.5566\n",
      "Epoch 22/50\n",
      "\u001b[1m25/25\u001b[0m \u001b[32m━━━━━━━━━━━━━━━━━━━━\u001b[0m\u001b[37m\u001b[0m \u001b[1m83s\u001b[0m 2s/step - accuracy: 0.7412 - loss: 0.7671 - val_accuracy: 0.4650 - val_loss: 1.5774\n",
      "Epoch 23/50\n",
      "\u001b[1m25/25\u001b[0m \u001b[32m━━━━━━━━━━━━━━━━━━━━\u001b[0m\u001b[37m\u001b[0m \u001b[1m80s\u001b[0m 2s/step - accuracy: 0.8018 - loss: 0.6477 - val_accuracy: 0.4550 - val_loss: 1.6624\n",
      "Epoch 24/50\n",
      "\u001b[1m25/25\u001b[0m \u001b[32m━━━━━━━━━━━━━━━━━━━━\u001b[0m\u001b[37m\u001b[0m \u001b[1m84s\u001b[0m 2s/step - accuracy: 0.7671 - loss: 0.6909 - val_accuracy: 0.4900 - val_loss: 1.7311\n",
      "Epoch 25/50\n",
      "\u001b[1m25/25\u001b[0m \u001b[32m━━━━━━━━━━━━━━━━━━━━\u001b[0m\u001b[37m\u001b[0m \u001b[1m82s\u001b[0m 2s/step - accuracy: 0.7973 - loss: 0.6357 - val_accuracy: 0.4650 - val_loss: 1.7647\n",
      "Epoch 26/50\n",
      "\u001b[1m25/25\u001b[0m \u001b[32m━━━━━━━━━━━━━━━━━━━━\u001b[0m\u001b[37m\u001b[0m \u001b[1m43s\u001b[0m 2s/step - accuracy: 0.8058 - loss: 0.5980 - val_accuracy: 0.4650 - val_loss: 1.6882\n",
      "Epoch 27/50\n",
      "\u001b[1m25/25\u001b[0m \u001b[32m━━━━━━━━━━━━━━━━━━━━\u001b[0m\u001b[37m\u001b[0m \u001b[1m80s\u001b[0m 2s/step - accuracy: 0.8191 - loss: 0.5916 - val_accuracy: 0.4550 - val_loss: 1.7390\n",
      "Epoch 28/50\n",
      "\u001b[1m25/25\u001b[0m \u001b[32m━━━━━━━━━━━━━━━━━━━━\u001b[0m\u001b[37m\u001b[0m \u001b[1m87s\u001b[0m 2s/step - accuracy: 0.8144 - loss: 0.5425 - val_accuracy: 0.4850 - val_loss: 1.7360\n",
      "Epoch 29/50\n",
      "\u001b[1m25/25\u001b[0m \u001b[32m━━━━━━━━━━━━━━━━━━━━\u001b[0m\u001b[37m\u001b[0m \u001b[1m81s\u001b[0m 2s/step - accuracy: 0.8341 - loss: 0.4813 - val_accuracy: 0.4850 - val_loss: 1.6932\n",
      "Epoch 30/50\n",
      "\u001b[1m25/25\u001b[0m \u001b[32m━━━━━━━━━━━━━━━━━━━━\u001b[0m\u001b[37m\u001b[0m \u001b[1m41s\u001b[0m 2s/step - accuracy: 0.8533 - loss: 0.4439 - val_accuracy: 0.5000 - val_loss: 1.7239\n",
      "Epoch 31/50\n",
      "\u001b[1m25/25\u001b[0m \u001b[32m━━━━━━━━━━━━━━━━━━━━\u001b[0m\u001b[37m\u001b[0m \u001b[1m43s\u001b[0m 2s/step - accuracy: 0.8418 - loss: 0.5057 - val_accuracy: 0.5150 - val_loss: 1.7114\n",
      "Epoch 32/50\n",
      "\u001b[1m25/25\u001b[0m \u001b[32m━━━━━━━━━━━━━━━━━━━━\u001b[0m\u001b[37m\u001b[0m \u001b[1m83s\u001b[0m 2s/step - accuracy: 0.8893 - loss: 0.3893 - val_accuracy: 0.4700 - val_loss: 1.8478\n",
      "Epoch 33/50\n",
      "\u001b[1m25/25\u001b[0m \u001b[32m━━━━━━━━━━━━━━━━━━━━\u001b[0m\u001b[37m\u001b[0m \u001b[1m83s\u001b[0m 2s/step - accuracy: 0.8421 - loss: 0.4388 - val_accuracy: 0.4700 - val_loss: 1.7606\n",
      "Epoch 34/50\n",
      "\u001b[1m25/25\u001b[0m \u001b[32m━━━━━━━━━━━━━━━━━━━━\u001b[0m\u001b[37m\u001b[0m \u001b[1m80s\u001b[0m 2s/step - accuracy: 0.8944 - loss: 0.3656 - val_accuracy: 0.4800 - val_loss: 1.7843\n",
      "Epoch 35/50\n",
      "\u001b[1m25/25\u001b[0m \u001b[32m━━━━━━━━━━━━━━━━━━━━\u001b[0m\u001b[37m\u001b[0m \u001b[1m83s\u001b[0m 2s/step - accuracy: 0.8774 - loss: 0.3825 - val_accuracy: 0.4800 - val_loss: 1.9371\n",
      "Epoch 36/50\n",
      "\u001b[1m25/25\u001b[0m \u001b[32m━━━━━━━━━━━━━━━━━━━━\u001b[0m\u001b[37m\u001b[0m \u001b[1m43s\u001b[0m 2s/step - accuracy: 0.8954 - loss: 0.3339 - val_accuracy: 0.4800 - val_loss: 1.8371\n",
      "Epoch 37/50\n",
      "\u001b[1m25/25\u001b[0m \u001b[32m━━━━━━━━━━━━━━━━━━━━\u001b[0m\u001b[37m\u001b[0m \u001b[1m81s\u001b[0m 2s/step - accuracy: 0.8718 - loss: 0.3777 - val_accuracy: 0.4700 - val_loss: 1.8716\n",
      "Epoch 38/50\n",
      "\u001b[1m25/25\u001b[0m \u001b[32m━━━━━━━━━━━━━━━━━━━━\u001b[0m\u001b[37m\u001b[0m \u001b[1m86s\u001b[0m 2s/step - accuracy: 0.8713 - loss: 0.4030 - val_accuracy: 0.4950 - val_loss: 1.8951\n",
      "Epoch 39/50\n",
      "\u001b[1m25/25\u001b[0m \u001b[32m━━━━━━━━━━━━━━━━━━━━\u001b[0m\u001b[37m\u001b[0m \u001b[1m44s\u001b[0m 2s/step - accuracy: 0.8622 - loss: 0.3960 - val_accuracy: 0.4900 - val_loss: 1.9318\n",
      "Epoch 40/50\n",
      "\u001b[1m25/25\u001b[0m \u001b[32m━━━━━━━━━━━━━━━━━━━━\u001b[0m\u001b[37m\u001b[0m \u001b[1m81s\u001b[0m 2s/step - accuracy: 0.8868 - loss: 0.3398 - val_accuracy: 0.4900 - val_loss: 1.9656\n",
      "Epoch 41/50\n",
      "\u001b[1m25/25\u001b[0m \u001b[32m━━━━━━━━━━━━━━━━━━━━\u001b[0m\u001b[37m\u001b[0m \u001b[1m83s\u001b[0m 2s/step - accuracy: 0.8952 - loss: 0.3032 - val_accuracy: 0.4850 - val_loss: 1.9085\n",
      "Epoch 42/50\n",
      "\u001b[1m25/25\u001b[0m \u001b[32m━━━━━━━━━━━━━━━━━━━━\u001b[0m\u001b[37m\u001b[0m \u001b[1m83s\u001b[0m 2s/step - accuracy: 0.9192 - loss: 0.2883 - val_accuracy: 0.4850 - val_loss: 1.9689\n",
      "Epoch 43/50\n",
      "\u001b[1m25/25\u001b[0m \u001b[32m━━━━━━━━━━━━━━━━━━━━\u001b[0m\u001b[37m\u001b[0m \u001b[1m76s\u001b[0m 2s/step - accuracy: 0.8946 - loss: 0.2799 - val_accuracy: 0.4800 - val_loss: 1.9592\n",
      "Epoch 44/50\n",
      "\u001b[1m25/25\u001b[0m \u001b[32m━━━━━━━━━━━━━━━━━━━━\u001b[0m\u001b[37m\u001b[0m \u001b[1m38s\u001b[0m 1s/step - accuracy: 0.9240 - loss: 0.2410 - val_accuracy: 0.4950 - val_loss: 1.9479\n",
      "Epoch 45/50\n",
      "\u001b[1m25/25\u001b[0m \u001b[32m━━━━━━━━━━━━━━━━━━━━\u001b[0m\u001b[37m\u001b[0m \u001b[1m39s\u001b[0m 2s/step - accuracy: 0.9132 - loss: 0.2597 - val_accuracy: 0.4800 - val_loss: 2.0580\n",
      "Epoch 46/50\n",
      "\u001b[1m25/25\u001b[0m \u001b[32m━━━━━━━━━━━━━━━━━━━━\u001b[0m\u001b[37m\u001b[0m \u001b[1m46s\u001b[0m 2s/step - accuracy: 0.9089 - loss: 0.2783 - val_accuracy: 0.5000 - val_loss: 1.9616\n",
      "Epoch 47/50\n",
      "\u001b[1m25/25\u001b[0m \u001b[32m━━━━━━━━━━━━━━━━━━━━\u001b[0m\u001b[37m\u001b[0m \u001b[1m77s\u001b[0m 2s/step - accuracy: 0.9177 - loss: 0.2609 - val_accuracy: 0.4700 - val_loss: 2.0490\n",
      "Epoch 48/50\n",
      "\u001b[1m25/25\u001b[0m \u001b[32m━━━━━━━━━━━━━━━━━━━━\u001b[0m\u001b[37m\u001b[0m \u001b[1m43s\u001b[0m 2s/step - accuracy: 0.9361 - loss: 0.2432 - val_accuracy: 0.4650 - val_loss: 2.1147\n",
      "Epoch 49/50\n",
      "\u001b[1m25/25\u001b[0m \u001b[32m━━━━━━━━━━━━━━━━━━━━\u001b[0m\u001b[37m\u001b[0m \u001b[1m80s\u001b[0m 2s/step - accuracy: 0.9249 - loss: 0.2274 - val_accuracy: 0.4950 - val_loss: 2.1184\n",
      "Epoch 50/50\n",
      "\u001b[1m25/25\u001b[0m \u001b[32m━━━━━━━━━━━━━━━━━━━━\u001b[0m\u001b[37m\u001b[0m \u001b[1m43s\u001b[0m 2s/step - accuracy: 0.9093 - loss: 0.2572 - val_accuracy: 0.5050 - val_loss: 2.0889\n"
     ]
    },
    {
     "data": {
      "text/plain": [
       "<keras.src.callbacks.history.History at 0x1c83352d490>"
      ]
     },
     "execution_count": 23,
     "metadata": {},
     "output_type": "execute_result"
    }
   ],
   "source": [
    "model.fit(x_train,y_train,validation_data=(x_test,y_test),epochs=50,batch_size=32)"
   ]
  },
  {
   "cell_type": "code",
   "execution_count": 25,
   "id": "51da3ae9-28a8-4e3a-9ee8-d008f945eddb",
   "metadata": {},
   "outputs": [],
   "source": [
    "# save model\n",
    "model.save('music_genre_classifier.keras')"
   ]
  },
  {
   "cell_type": "code",
   "execution_count": null,
   "id": "fe75cb14-8530-4985-8bfd-31af4022929e",
   "metadata": {},
   "outputs": [],
   "source": [
    "# prediction"
   ]
  },
  {
   "cell_type": "code",
   "execution_count": 27,
   "id": "dadcb54f-4e61-4cdc-adde-8e49b27075f1",
   "metadata": {},
   "outputs": [],
   "source": [
    "sample=r\"C:\\Users\\sweth\\Downloads\\Data\\genres_original\\classical\\classical.00075.wav\"\n",
    "y,sr=librosa.load(sample,duration=30)\n",
    "mfcc=librosa.feature.mfcc(y=y,sr=sr,n_mfcc=40)\n",
    "mfcc=mfcc.T "
   ]
  },
  {
   "cell_type": "code",
   "execution_count": 29,
   "id": "d5bf6538-b21c-4e15-baf8-1dbed0211274",
   "metadata": {},
   "outputs": [],
   "source": [
    "padded_mfcc=pad_sequences([mfcc],dtype='float32',padding='post')"
   ]
  },
  {
   "cell_type": "code",
   "execution_count": 31,
   "id": "2a751b17-5a5e-406d-8091-b6e7c70a732a",
   "metadata": {},
   "outputs": [],
   "source": [
    "new_labels=np.unique(cleaned_labels)"
   ]
  },
  {
   "cell_type": "code",
   "execution_count": 33,
   "id": "d5b4ada5-5246-4f58-b953-f8959bcc6b6c",
   "metadata": {},
   "outputs": [
    {
     "data": {
      "text/plain": [
       "array(['blues', 'classical', 'country', 'disco', 'hiphop', 'jazz',\n",
       "       'metal', 'pop', 'reggae', 'rock'], dtype='<U9')"
      ]
     },
     "execution_count": 33,
     "metadata": {},
     "output_type": "execute_result"
    }
   ],
   "source": [
    "new_labels"
   ]
  },
  {
   "cell_type": "code",
   "execution_count": 35,
   "id": "eedb09a8-3a70-44f8-b2c0-5f59e75d62d2",
   "metadata": {},
   "outputs": [
    {
     "name": "stdout",
     "output_type": "stream",
     "text": [
      "\u001b[1m1/1\u001b[0m \u001b[32m━━━━━━━━━━━━━━━━━━━━\u001b[0m\u001b[37m\u001b[0m \u001b[1m0s\u001b[0m 436ms/step\n",
      "Predicted Genre: classical\n"
     ]
    }
   ],
   "source": [
    "prediction=model.predict(padded_mfcc)\n",
    "predicted_index=np.argmax(prediction)\n",
    "print('Predicted Genre:',new_labels[predicted_index])"
   ]
  },
  {
   "cell_type": "code",
   "execution_count": null,
   "id": "df0991cf-5264-4664-b6c5-b5b2252d3d92",
   "metadata": {},
   "outputs": [],
   "source": [
    "# tkinter"
   ]
  },
  {
   "cell_type": "code",
   "execution_count": null,
   "id": "d966ac63-0464-40ae-a383-b35782916978",
   "metadata": {},
   "outputs": [],
   "source": [
    "#pip install pyttsx3"
   ]
  },
  {
   "cell_type": "code",
   "execution_count": 37,
   "id": "53b708b5-5f55-4b4b-aa8e-b894731a43cc",
   "metadata": {},
   "outputs": [
    {
     "name": "stdout",
     "output_type": "stream",
     "text": [
      "\u001b[1m1/1\u001b[0m \u001b[32m━━━━━━━━━━━━━━━━━━━━\u001b[0m\u001b[37m\u001b[0m \u001b[1m0s\u001b[0m 144ms/step\n"
     ]
    }
   ],
   "source": [
    "import tkinter as tk\n",
    "from tkinter import filedialog\n",
    "import librosa\n",
    "import numpy as np\n",
    "from tensorflow.keras.models import load_model\n",
    "from tensorflow.keras.preprocessing.sequence import pad_sequences\n",
    "\n",
    "# Load your trained model and label list\n",
    "model=load_model('music_genre_classifier.keras')\n",
    "new_labels=['blues','classical','country','disco','hiphop','jazz','metal','pop','reggae','rock'] \n",
    "\n",
    "\n",
    "# Prediction function\n",
    "def predict_genre(file_path):\n",
    "    try:\n",
    "        y,sr=librosa.load(file_path,duration=30)\n",
    "        mfcc=librosa.feature.mfcc(y=y,sr=sr,n_mfcc=40)\n",
    "        mfcc=mfcc.T\n",
    "        padded_mfcc=pad_sequences([mfcc],dtype='float32',padding='post') \n",
    "        prediction=model.predict(padded_mfcc)\n",
    "        predicted_index=np.argmax(prediction)\n",
    "        return new_labels[predicted_index]\n",
    "    except Exception as e:\n",
    "        return f\"Error: {str(e)}\"\n",
    "\n",
    "import pyttsx3\n",
    "engine=pyttsx3.init()\n",
    "engine.setProperty('rate',120)\n",
    "def speak(text):\n",
    "    engine.say(text)\n",
    "    engine.runAndWait()\n",
    "\n",
    "# Tkinter GUI\n",
    "def browse_file():\n",
    "    file_path=filedialog.askopenfilename(filetypes=[(\"WAV files\", \"*.wav\")])\n",
    "    if file_path:\n",
    "        genre=predict_genre(file_path)\n",
    "        result_label.config(text=f\"Predicted Genre: {genre}\")\n",
    "        speak(f\"Genre is {genre}\")\n",
    "\n",
    "root=tk.Tk()\n",
    "root.title(\"Music Genre Classifier\")\n",
    "root.geometry(\"1000x700\")\n",
    "\n",
    "from PIL import Image,ImageTk\n",
    "image=Image.open(r\"C:\\Users\\sweth\\Downloads\\mgc.webp\")\n",
    "bg_photo=ImageTk.PhotoImage(image)\n",
    "bg_label=tk.Label(root,image=bg_photo)\n",
    "bg_label.place(x=0,y=0,relwidth=1,relheight=1)\n",
    "\n",
    "l=tk.Label(root,text=\"MUSIC GENRE CLASSIFIER\",font=(\"Arial\",26,\"bold\")).pack(pady=10)\n",
    "l1=tk.Label(root,text=\"Select an audio file from your device\",font=(\"Arial\",14,\"bold\")).pack(pady=10)\n",
    "b=tk.Button(root,text=\"Upload and Predict\",font=(\"Arial\",12,\"bold\"),command=browse_file,bg='light grey').pack(pady=5)\n",
    "result_label=tk.Label(root,text=\"\",font=(\"Arial\",14))\n",
    "result_label.pack(pady=20)\n",
    "\n",
    "root.mainloop()"
   ]
  },
  {
   "cell_type": "code",
   "execution_count": null,
   "id": "83d6e324-b8ab-47ba-a84e-25530481c724",
   "metadata": {},
   "outputs": [],
   "source": []
  },
  {
   "cell_type": "code",
   "execution_count": null,
   "id": "e18de9cd-320e-4b29-9c02-3548be0399a9",
   "metadata": {},
   "outputs": [],
   "source": []
  }
 ],
 "metadata": {
  "kernelspec": {
   "display_name": "Python [conda env:base] *",
   "language": "python",
   "name": "conda-base-py"
  },
  "language_info": {
   "codemirror_mode": {
    "name": "ipython",
    "version": 3
   },
   "file_extension": ".py",
   "mimetype": "text/x-python",
   "name": "python",
   "nbconvert_exporter": "python",
   "pygments_lexer": "ipython3",
   "version": "3.12.7"
  }
 },
 "nbformat": 4,
 "nbformat_minor": 5
}
